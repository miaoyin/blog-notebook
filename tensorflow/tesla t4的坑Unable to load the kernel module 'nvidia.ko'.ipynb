{
 "cells": [
  {
   "cell_type": "code",
   "execution_count": null,
   "metadata": {},
   "outputs": [],
   "source": [
    "### 说明\n",
    "\n",
    "安nvidia tesla T4显卡遇到的坑, 在ubuntu16.04上安装t4会遇到下面错误\n",
    "\n",
    "\n",
    "### 错误内容\n",
    "\n",
    "```\n",
    "   make[1]: Leaving directory '/usr/src/linux-headers-4.4.0-142-generic'\n",
    "-> done.\n",
    "-> Kernel module compilation complete.\n",
    "ERROR: Unable to load the kernel module 'nvidia.ko'.  This happens most frequently when this kernel module was built against the wrong or improperly configured kernel sources, with a version of gcc that differs from the one used to build the target kernel, or if another driver, such as nouveau, is present and prevents the NVIDIA kernel module from obtaining ownership of the NVIDIA GPU(s), or no NVIDIA GPU installed in this system is supported by this NVIDIA Linux graphics driver release.\n",
    "```\n",
    "\n",
    "### 解决方法\n",
    "\n",
    "t4不支持普通服务器，更换成刀片服务器\n",
    "\n",
    "### 补充\n",
    "\n",
    "* 如果普通主机操作系统是win10，插上t4，安装驱动正常。\n",
    "\n",
    "* 安装nvidia 2080Ti 驱动，如果忘记插显卡电源线，会提示同样错误\n",
    "\n",
    "\n",
    "[此生必看的科学实验-水知道答案](http://v.youku.com/v_show/id_XMjgzMzcwNDk4OA)\n",
    "[印光大师十念法（胡小林主讲第1集）](http://v.youku.com/v_show/id_XMzUwMzc4NzY4NA)\n"
   ]
  }
 ],
 "metadata": {
  "kernelspec": {
   "display_name": "Python 3",
   "language": "python",
   "name": "python3"
  },
  "language_info": {
   "codemirror_mode": {
    "name": "ipython",
    "version": 3
   },
   "file_extension": ".py",
   "mimetype": "text/x-python",
   "name": "python",
   "nbconvert_exporter": "python",
   "pygments_lexer": "ipython3",
   "version": "3.8.0"
  }
 },
 "nbformat": 4,
 "nbformat_minor": 4
}
