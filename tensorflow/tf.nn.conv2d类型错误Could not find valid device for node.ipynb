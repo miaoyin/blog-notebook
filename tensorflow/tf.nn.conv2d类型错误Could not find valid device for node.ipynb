{
 "cells": [
  {
   "cell_type": "code",
   "execution_count": null,
   "metadata": {},
   "outputs": [],
   "source": [
    "tf.nn.conv2d类型错误Could not find valid device for node\n",
    "\n",
    "tf.nn.conv2d卷积要求input的类型是half, bfloat16, float32, float64。\n",
    "\n",
    "读取图片之后类型是unit8，需要转换\n",
    "\n",
    "# 错误内容\n",
    "\n",
    "```\n",
    "NotFoundError: Could not find valid device for node.\n",
    "Node:{{node Conv2D}}\n",
    "All kernels registered for op Conv2D :\n",
    "  device='XLA_GPU'; T in [DT_FLOAT, DT_DOUBLE, DT_INT32, DT_BFLOAT16, DT_HALF]\n",
    "  device='XLA_CPU'; T in [DT_FLOAT, DT_DOUBLE, DT_INT32, DT_BFLOAT16, DT_HALF]\n",
    "  device='XLA_CPU_JIT'; T in [DT_FLOAT, DT_DOUBLE, DT_INT32, DT_BFLOAT16, DT_HALF]\n",
    "  device='XLA_GPU_JIT'; T in [DT_FLOAT, DT_DOUBLE, DT_INT32, DT_BFLOAT16, DT_HALF]\n",
    "  device='GPU'; T in [DT_INT32]\n",
    "  device='GPU'; T in [DT_DOUBLE]\n",
    "  device='GPU'; T in [DT_FLOAT]\n",
    "  device='GPU'; T in [DT_HALF]\n",
    "  device='CPU'; T in [DT_INT32]\n",
    "  device='CPU'; T in [DT_DOUBLE]\n",
    "  device='CPU'; T in [DT_FLOAT]\n",
    "  device='CPU'; T in [DT_HALF]\n",
    " [Op:Conv2D]\n",
    "```\n",
    "\n",
    "# 转换方法\n",
    "\n",
    "```\n",
    "input = tf.cast(input, tf.float32)\n",
    "```\n"
   ]
  }
 ],
 "metadata": {
  "kernelspec": {
   "display_name": "Python 3",
   "language": "python",
   "name": "python3"
  },
  "language_info": {
   "codemirror_mode": {
    "name": "ipython",
    "version": 3
   },
   "file_extension": ".py",
   "mimetype": "text/x-python",
   "name": "python",
   "nbconvert_exporter": "python",
   "pygments_lexer": "ipython3",
   "version": "3.8.0"
  }
 },
 "nbformat": 4,
 "nbformat_minor": 4
}
