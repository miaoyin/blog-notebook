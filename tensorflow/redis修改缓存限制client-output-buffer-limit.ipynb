{
 "cells": [
  {
   "cell_type": "code",
   "execution_count": null,
   "metadata": {},
   "outputs": [],
   "source": [
    "\n",
    "# 描述\n",
    "\n",
    "celery异步调用，经常会传一些比较大的数据，调用比较多会经常出现连接被关闭\n",
    "\n",
    "# 错误内容\n",
    "\n",
    "```\n",
    "  File \"/usr/local/lib/python3.6/dist-packages/celery/result.py\", line 228, in get\n",
    "    on_message=on_message,\n",
    "  File \"/usr/local/lib/python3.6/dist-packages/celery/backends/asynchronous.py\", line 193, in wait_for_pending\n",
    "    for _ in self._wait_for_pending(result, **kwargs):\n",
    "  File \"/usr/local/lib/python3.6/dist-packages/celery/backends/asynchronous.py\", line 260, in _wait_for_pending\n",
    "    on_interval=on_interval):\n",
    "  File \"/usr/local/lib/python3.6/dist-packages/celery/backends/asynchronous.py\", line 56, in drain_events_until\n",
    "    yield self.wait_for(p, wait, timeout=1)\n",
    "  File \"/usr/local/lib/python3.6/dist-packages/celery/backends/asynchronous.py\", line 65, in wait_for\n",
    "    wait(timeout=timeout)\n",
    "  File \"/usr/local/lib/python3.6/dist-packages/celery/backends/redis.py\", line 127, in drain_events\n",
    "    message = self._pubsub.get_message(timeout=timeout)\n",
    "  File \"/usr/local/lib/python3.6/dist-packages/redis/client.py\", line 3565, in get_message\n",
    "    response = self.parse_response(block=False, timeout=timeout)\n",
    "  File \"/usr/local/lib/python3.6/dist-packages/redis/client.py\", line 3451, in parse_response\n",
    "    if not block and not conn.can_read(timeout=timeout):\n",
    "  File \"/usr/local/lib/python3.6/dist-packages/redis/connection.py\", line 729, in can_read\n",
    "    return self._parser.can_read(timeout)\n",
    "  File \"/usr/local/lib/python3.6/dist-packages/redis/connection.py\", line 313, in can_read\n",
    "    return self._buffer and self._buffer.can_read(timeout)\n",
    "  File \"/usr/local/lib/python3.6/dist-packages/redis/connection.py\", line 223, in can_read\n",
    "    raise_on_timeout=False)\n",
    "  File \"/usr/local/lib/python3.6/dist-packages/redis/connection.py\", line 193, in _read_from_socket\n",
    "    raise ConnectionError(SERVER_CLOSED_CONNECTION_ERROR)\n",
    "redis.exceptions.ConnectionError: Connection closed by server.\n",
    "```\n",
    "\n",
    "# redis日志/var/log/redis/redis-server.log\n",
    "\n",
    "```\n",
    "1163:M 27 Apr 17:12:17.163 # Client id=93 addr=172.17.0.3:41098 fd=15 name= age=70 idle=1 flags=N db=0 sub=4 psub=0 multi=-1 qbuf=0 qbuf-free=0 obl=87 oll=1 omem=8388648 events=rw cmd=subscribe scheduled to be closed ASAP for overcoming of output buffer limits.\n",
    "```\n",
    "\n",
    "# 修改配置参数解决\n",
    "\n",
    "```\n",
    "# /etc/redis/redis.conf\n",
    "# client-output-buffer-limit <class> <hard limit> <soft limit> <soft seconds>\n",
    "# 条件1 hard limit表示超过该数值, server直接关闭连接\n",
    "# 条件2 soft limit表示超过该数值，持续soft seconds秒, server关闭连接\n",
    "\n",
    "# 默认\n",
    "client-output-buffer-limit pubsub 32mb 8mb 60\n",
    "\n",
    "# 改为(0表示不限制)\n",
    "client-output-buffer-limit pubsub 0 0 0\n",
    "```\n"
   ]
  }
 ],
 "metadata": {
  "kernelspec": {
   "display_name": "Python 3",
   "language": "python",
   "name": "python3"
  },
  "language_info": {
   "codemirror_mode": {
    "name": "ipython",
    "version": 3
   },
   "file_extension": ".py",
   "mimetype": "text/x-python",
   "name": "python",
   "nbconvert_exporter": "python",
   "pygments_lexer": "ipython3",
   "version": "3.8.0"
  }
 },
 "nbformat": 4,
 "nbformat_minor": 4
}
