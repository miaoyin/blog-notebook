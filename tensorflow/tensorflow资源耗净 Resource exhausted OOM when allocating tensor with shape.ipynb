{
 "cells": [
  {
   "cell_type": "code",
   "execution_count": null,
   "metadata": {},
   "outputs": [],
   "source": [
    "### 说明\n",
    "\n",
    "tensorflow跑训练集经常会遇到错误Resource exhausted: OOM when allocating tensor with shape[64,33,33,2048]\n",
    "\n",
    "### 错误内容\n",
    "\n",
    "```\n",
    "tensorflow.python.framework.errors_impl.ResourceExhaustedError: 2 root error(s) found.\n",
    "  (0) Resource exhausted: OOM when allocating tensor with shape[64,33,33,2048] and type float on /job:localhost/replica:0/task:0/device:GPU:0 by allocator GPU_0_bfc\n",
    "\t [[node SecondStageBoxPredictor_1/ResizeBilinear (defined at /app/models/research/object_detection/predictors/heads/mask_head.py:149) ]]\n",
    "Hint: If you want to see a list of allocated tensors when OOM happens, add report_tensor_allocations_upon_oom to RunOptions for current allocation info.\n",
    "\n",
    "\t [[total_loss/_7771]]\n",
    "Hint: If you want to see a list of allocated tensors when OOM happens, add report_tensor_allocations_upon_oom to RunOptions for current allocation info.\n",
    "\n",
    "  (1) Resource exhausted: OOM when allocating tensor with shape[64,33,33,2048] and type float on /job:localhost/replica:0/task:0/device:GPU:0 by allocator GPU_0_bfc\n",
    "\t [[node SecondStageBoxPredictor_1/ResizeBilinear (defined at /app/models/research/object_detection/predictors/heads/mask_head.py:149) ]]\n",
    "Hint: If you want to see a list of allocated tensors when OOM happens, add report_tensor_allocations_upon_oom to RunOptions for current allocation info.\n",
    "\n",
    "0 successful operations.\n",
    "0 derived errors ignored.\n",
    "\n",
    "Errors may have originated from an input operation.\n",
    "Input Source operations connected to node SecondStageBoxPredictor_1/ResizeBilinear:\n",
    " SecondStageFeatureExtractor/resnet_v1_101/block4/unit_3/bottleneck_v1/Relu (defined at /app/models/research/slim/nets/resnet_v1.py:136)\n",
    "\n",
    "Input Source operations connected to node SecondStageBoxPredictor_1/ResizeBilinear:\n",
    " SecondStageFeatureExtractor/resnet_v1_101/block4/unit_3/bottleneck_v1/Relu (defined at /app/models/research/slim/nets/resnet_v1.py:136)\n",
    "```\n",
    "\n",
    "### 原因\n",
    "\n",
    "tensorflow在为张量shape[64,33,33,2048]分配gpu内存是发现资源不够。\n",
    "\n",
    "假如数据类型是int8, 该张量需要的内存大小64*33*33*2048*1B=142737408B = 142.7MB\n",
    "\n",
    "### 解决方法\n",
    "\n",
    "1. 降低图片质量\n",
    "2. batch_size改成1\n",
    "3. 改用大内存的显卡\n",
    "4. 增加显卡, 并行训练\n",
    "\n",
    "[此生必看的科学实验-水知道答案](http://v.youku.com/v_show/id_XMjgzMzcwNDk4OA)\n",
    "[印光大师十念法（胡小林主讲第1集）](http://v.youku.com/v_show/id_XMzUwMzc4NzY4NA)"
   ]
  }
 ],
 "metadata": {
  "kernelspec": {
   "display_name": "Python 3",
   "language": "python",
   "name": "python3"
  },
  "language_info": {
   "codemirror_mode": {
    "name": "ipython",
    "version": 3
   },
   "file_extension": ".py",
   "mimetype": "text/x-python",
   "name": "python",
   "nbconvert_exporter": "python",
   "pygments_lexer": "ipython3",
   "version": "3.8.0"
  }
 },
 "nbformat": 4,
 "nbformat_minor": 4
}
