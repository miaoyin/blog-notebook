{
 "cells": [
  {
   "cell_type": "code",
   "execution_count": null,
   "metadata": {},
   "outputs": [],
   "source": [
    "\n",
    "# 问题描述\n",
    "\n",
    "tensorflow deeplab训练到一定次数出现错误Invalid argument: Loss is inf or nan. : Tensor had NaN values\n",
    "\n",
    "# 错误内容\n",
    "\n",
    "```\n",
    "I0423 08:55:47.280277 139646519609088 learning.py:507] global step 1990: loss = 0.3756 (1.255 sec/step)\n",
    "I0423 08:55:51.296706 139618548692736 supervisor.py:1117] Saving checkpoint to path /app/data/model/model.ckpt\n",
    "I0423 08:55:51.831594 139618531907328 supervisor.py:1050] Recording summary at step 1994.\n",
    "I0423 08:55:59.190809 139618540300032 supervisor.py:1099] global_step/sec: 0.851667\n",
    "I0423 08:55:59.217599 139646519609088 learning.py:507] global step 2000: loss = 0.3757 (1.182 sec/step)\n",
    "I0423 08:56:07.141482 139646519609088 coordinator.py:224] Error reported to Coordinator: <class 'tensorflow.python.framework.errors_impl.InvalidArgumentError'>, 2 root error(s) found.\n",
    "  (0) Invalid argument: Loss is inf or nan. : Tensor had NaN values\n",
    "\t [[node CheckNumerics (defined at deeplab/train.py:398) ]]\n",
    "  (1) Invalid argument: Loss is inf or nan. : Tensor had NaN values\n",
    "\t [[node CheckNumerics (defined at deeplab/train.py:398) ]]\n",
    "\t [[clone_5/gradients/clone_5/xception_65/middle_flow/block1/unit_13/xception_module/separable_conv1_depthwise/depthwise_grad/tuple/control_dependency_1/_26152]]\n",
    "0 successful operations.\n",
    "7 derived errors ignored.\n",
    "```\n",
    "\n",
    "# 原因\n",
    "\n",
    "制作的数据集有问题，分类不清\n",
    "\n",
    "# 备注\n",
    "\n",
    "有人说是减小--base_learning_rate，--fine_tune_batch_norm=false 实际没有用，同样会出现上面问题。\n",
    "\n",
    "\n",
    "[此生必看的科学实验-水知道答案](http://v.youku.com/v_show/id_XMjgzMzcwNDk4OA)\n",
    "[印光大师十念法（胡小林主讲第1集）](http://v.youku.com/v_show/id_XMzUwMzc4NzY4NA)"
   ]
  }
 ],
 "metadata": {
  "kernelspec": {
   "display_name": "Python 3",
   "language": "python",
   "name": "python3"
  },
  "language_info": {
   "codemirror_mode": {
    "name": "ipython",
    "version": 3
   },
   "file_extension": ".py",
   "mimetype": "text/x-python",
   "name": "python",
   "nbconvert_exporter": "python",
   "pygments_lexer": "ipython3",
   "version": "3.8.0"
  }
 },
 "nbformat": 4,
 "nbformat_minor": 4
}
