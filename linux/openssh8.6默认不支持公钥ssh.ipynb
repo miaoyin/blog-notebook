{
 "cells": [
  {
   "cell_type": "code",
   "execution_count": null,
   "metadata": {},
   "outputs": [],
   "source": [
    "### 起因\n",
    "\n",
    "    最近升级了自己的linux后, 更新gogs代码时，发现用不了了\n",
    "\n",
    "    反复测试原因，发现是最新版本openssh8.6关闭了公钥登录\n",
    "\n",
    "\n",
    "### 错误提示\n",
    "\n",
    "尝试了各种办法，会发现始终提示ssh登录失败\n",
    "\n",
    "```bash\n",
    "username@ip: Permission denied (publickey).\n",
    "```\n",
    "\n",
    "### 查看ssh详细信息\n",
    "\n",
    "输出ssh调试信息，查看失败的具体原因\n",
    "\n",
    "```bash\n",
    "ssh -Tv username@ip\n",
    "\n",
    "#发现了一条提示，这就是登录失败的原因\n",
    "...\n",
    "debug1: Authentications that can continue: publickey\n",
    "debug1: Next authentication method: publickey\n",
    "debug1: Offering public key: /home/xxx/.ssh/id_rsa RSA SHA256:0IxiHWniJDBbsM8x0zx+zliWrl7PINcALzFFqVgKX/M agent\n",
    "debug1: send_pubkey_test: no mutual signature algorithm\n",
    "...\n",
    "```\n",
    "\n",
    "\n",
    "### 解决办法\n",
    "\n",
    "\n",
    "```bash\n",
    "sudo vim /etc/ssh/ssh_config\n",
    "\n",
    "#增加一条PubKeyAcceptedKeyTypes\n",
    "\n",
    " Host *\n",
    "    PubKeyAcceptedKeyTypes +ssh-rsa\n",
    "#   ForwardAgent no\n",
    "#   ForwardX11 no\n",
    "#   PasswordAuthentication yes\n",
    "#   HostbasedAuthentication no\n",
    "#   GSSAPIAuthentication no\n",
    "#   GSSAPIDelegateCredentials no\n",
    "#   GSSAPIKeyExchange no\n",
    "#   GSSAPITrustDNS no\n",
    "#   BatchMode no\n",
    "```\n",
    "\n",
    "\n",
    "### 问题原因\n",
    "\n",
    "    rsa有安全问题，新版本openssh，默认不支持rsa公钥登录，需要自己打开\n",
    "\n",
    "[佛說大乘無量壽莊嚴清淨平等覺經pdf](http://www.sxjy360.top/page-download/)\n",
    "[净土大经科注2014-doc](http://www.sxjy360.top/page-download/)\n",
    "[此生必看的科学实验-水知道答案](http://www.sxjy360.top/page-download/)\n",
    "[印光大师十念法（胡小林主讲第1集）](http://www.sxjy360.top/page-download/)\n"
   ]
  }
 ],
 "metadata": {
  "kernelspec": {
   "display_name": "Python 3",
   "language": "python",
   "name": "python3"
  },
  "language_info": {
   "codemirror_mode": {
    "name": "ipython",
    "version": 3
   },
   "file_extension": ".py",
   "mimetype": "text/x-python",
   "name": "python",
   "nbconvert_exporter": "python",
   "pygments_lexer": "ipython3",
   "version": "3.8.0"
  },
  "pycharm": {
   "stem_cell": {
    "cell_type": "raw",
    "source": [],
    "metadata": {
     "collapsed": false
    }
   }
  }
 },
 "nbformat": 4,
 "nbformat_minor": 4
}