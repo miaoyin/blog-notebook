{
 "cells": [
  {
   "cell_type": "code",
   "execution_count": null,
   "metadata": {},
   "outputs": [],
   "source": [
    "### 描述\n",
    "\n",
    "通过click自定义命令行加载配置，然后调用脚本启动celery worker。click自定义命令行与celery命令行如何共存?\n",
    "\n",
    "\n",
    "### 问题: 利用@click.pass_context无法传递参数\n",
    "\n",
    "celery启动worker时, 会覆盖自定义的click, 导致自定义上下文无法传入应用中。\n",
    "\n",
    "\n",
    "### 解决方法一: 增加celery子命令\n",
    "\n",
    "通过继承CeleryCommand，增加celery子命令\n",
    "\n",
    "```\n",
    "celery myname xxx\n",
    "```\n",
    "\n",
    "### 解决方法二: 利用celery的app的属性中\n",
    "\n",
    "在程序入口地方加载好配方，然后存入app._local属性中, 自定义配置就被传入了worker中， 可以被使用。\n",
    "\n",
    "```python\n",
    "@click.command()\n",
    "@click.option(\"-c\", \"--config\",\n",
    "              default=Path(sys.prefix, \"etc/xxx/xxx.conf\"),\n",
    "              type=click.Path(exists=True),\n",
    "              help=\"config file: --config=  or env AUTUMN_CONF=\")\n",
    "@click.pass_context\n",
    "def main(ctx, config):\n",
    "    config_file = Path(config).absolute()\n",
    "\n",
    "    # 配置\n",
    "    from xxxx.config.celery import create_app\n",
    "    # 传入配置，加载之后，保存在属性中\n",
    "    app = create_app(config_file)\n",
    "\n",
    "    # worker命令\n",
    "    # .....\n",
    "    app.worker_main(argv=param)\n",
    "\n",
    "\n",
    "if __name__ == \"__main__\":\n",
    "    main()\n",
    "```\n",
    "\n"
   ]
  }
 ],
 "metadata": {
  "kernelspec": {
   "display_name": "Python 3",
   "language": "python",
   "name": "python3"
  },
  "language_info": {
   "codemirror_mode": {
    "name": "ipython",
    "version": 3
   },
   "file_extension": ".py",
   "mimetype": "text/x-python",
   "name": "python",
   "nbconvert_exporter": "python",
   "pygments_lexer": "ipython3",
   "version": "3.8.0"
  }
 },
 "nbformat": 4,
 "nbformat_minor": 4
}