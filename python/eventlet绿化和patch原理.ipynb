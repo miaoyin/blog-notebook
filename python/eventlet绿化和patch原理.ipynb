{
 "cells": [
  {
   "cell_type": "code",
   "execution_count": null,
   "metadata": {
    "collapsed": true
   },
   "outputs": [],
   "source": [
    "### 说明\n",
    "\n",
    "eventlet是一个必备工具，经常用，绿化原理有点忘记了，重新复习一遍.\n",
    "\n",
    "\n",
    "### 三个主要问题\n",
    "\n",
    "1. 绿化的原理是什么?\n",
    "\n",
    "2. 绿化怎么管理？\n",
    "\n",
    "3. 绿化怎么引入？\n",
    "\n",
    "### 绿化原理\n",
    "\n",
    "利用select/epolls/kqueue等操作系统提供的非阻塞操作，将阻塞改为非阻塞.\n",
    "\n",
    "### 引用管理\n",
    "\n",
    "eventlet在import之后，将模块中的属性绿化.\n",
    "\n",
    "用一小段代码来查看看\n",
    "```\n",
    "import sys\n",
    "import eventlet\n",
    "# eventlet.monkey_patch()\n",
    "\n",
    "httplib2 = eventlet.import_patched('httplib2')\n",
    "print(httplib2)\n",
    "print(httplib2.socket)\n",
    "\n",
    "print(\"================\")\n",
    "for k,v in sys.modules.items():\n",
    "    if \"socket\" in k:\n",
    "        print(k, v)\n",
    "\n",
    "\n",
    "# 打印内容\n",
    "<module 'httplib2' from 'D:\\\\workspace\\\\venv\\\\xxx\\\\lib\\\\site-packages\\\\httplib2\\\\__init__.py'>\n",
    "<module 'eventlet.green.socket' from 'D:\\\\workspace\\\\venv\\\\xxx\\\\lib\\\\site-packages\\\\eventlet\\\\green\\\\socket.py'>\n",
    "================\n",
    "_socket <module '_socket' from 'c:\\\\python\\\\python36\\\\DLLs\\\\_socket.pyd'>\n",
    "socket <module 'socket' from 'c:\\\\python\\\\python36\\\\lib\\\\socket.py'>\n",
    "__original_module_socket <module 'socket' from 'c:\\\\python\\\\python36\\\\lib\\\\socket.py'>\n",
    "\n",
    "# 说明了什么？\n",
    "绿化只是替换httplib2模块中的引用属性socket。并未改变sys.modules中的属性\n",
    "```\n",
    "\n",
    "### 引入绿化方法一：直接import\n",
    "\n",
    "```\n",
    "from eventlet.green import socket\n",
    "```\n",
    "\n",
    "### 引入绿化方法二：eventlet.import_patch\n",
    "\n",
    "1.好处: 能绿化模块内部的系统模块\n",
    "2.只能绿化os, select, socket, thread, time, psycopy, MySQLdb, bultines, subprocess\n",
    "3.如果是import threading，不会自动绿化, 需要from eventlet.green import threading\n",
    "4. 不会修改sys.modules\n",
    "\n",
    "```\n",
    "import eventlet\n",
    "httplib2 = eventlet.import_patched('httplib2')\n",
    "print(httplib2)\n",
    "print(httplib2.socket)\n",
    "\n",
    "# 打印\n",
    "<module 'httplib2' from 'D:\\\\workspace\\\\venv\\\\autumn-secs\\\\lib\\\\site-packages\\\\httplib2\\\\__init__.py'>\n",
    "<module 'eventlet.green.socket' from 'D:\\\\workspace\\\\venv\\\\autumn-secs\\\\lib\\\\site-packages\\\\eventlet\\\\green\\\\socket.py'>\n",
    "```\n",
    "\n",
    "### 引入绿化方法三：eventlet.monkey_patch\n",
    "\n",
    "1.与import_patch不同，会直接修改sys.modules\n",
    "2.但是也只能绿化os,select等等几个模块，其它模块需要用直接引用绿化\n",
    "\n",
    "[佛說大乘無量壽莊嚴清淨平等覺經pdf](http://doc.sxjy360.top/book/佛說大乘無量壽莊嚴清淨平等覺經(難字注音).pdf)\n",
    "[净土大经科注2014-doc](http://doc.sxjy360.top/book/净土大经科注2014-doc.zip)\n",
    "[此生必看的科学实验-水知道答案](http://v.youku.com/v_show/id_XMjgzMzcwNDk4OA)\n",
    "[印光大师十念法（胡小林主讲第1集）](http://v.youku.com/v_show/id_XMzUwMzc4NzY4NA)\n",
    "\n"
   ]
  }
 ],
 "metadata": {
  "kernelspec": {
   "display_name": "${KERNEL_SPEC_DISPLAY_NAME}",
   "language": "${KERNEL_SPEC_LANGUAGE}",
   "name": "${KERNEL_SPEC_NAME}"
  },
  "language_info": {
   "codemirror_mode": {
    "name": "ipython",
    "version": 2
   },
   "file_extension": ".py",
   "mimetype": "text/x-python",
   "name": "python",
   "nbconvert_exporter": "python",
   "pygments_lexer": "ipython2",
   "version": "2.7.6"
  },
  "pycharm": {
   "stem_cell": {
    "cell_type": "raw",
    "source": [],
    "metadata": {
     "collapsed": false
    }
   }
  }
 },
 "nbformat": 4,
 "nbformat_minor": 0
}