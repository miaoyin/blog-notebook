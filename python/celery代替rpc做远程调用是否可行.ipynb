{
 "cells": [
  {
   "cell_type": "code",
   "execution_count": null,
   "metadata": {},
   "outputs": [],
   "source": [
    "### 说明\n",
    "\n",
    "rpc的实现方式有很多种, 两者没有可比性。\n",
    "\n",
    "情况是我需要用python做远程调用, 分离子系统, 选择celery还是rpc框架？\n",
    "\n",
    "\n",
    "### rpc典型应用openstack\n",
    "\n",
    "openstack的oslo.messaging实现rpc, 基于Kombu和rabbitmq实现远程调用\n",
    "\n",
    "celery同样可以基于Kombu和rabbitmq实现远程调度\n",
    "\n",
    "两者从底层上来看似乎没什么不同\n",
    "\n",
    "\n",
    "### 结论\n",
    "\n",
    "单纯从底层原理上看, celery用来代替rpc做远程调用，似乎没什么问题\n",
    "\n",
    "[此生必看的科学实验-水知道答案](http://v.youku.com/v_show/id_XMjgzMzcwNDk4OA)\n",
    "[印光大师十念法（胡小林主讲第1集）](http://v.youku.com/v_show/id_XMzUwMzc4NzY4NA)"
   ]
  }
 ],
 "metadata": {
  "kernelspec": {
   "display_name": "Python 3",
   "language": "python",
   "name": "python3"
  },
  "language_info": {
   "codemirror_mode": {
    "name": "ipython",
    "version": 3
   },
   "file_extension": ".py",
   "mimetype": "text/x-python",
   "name": "python",
   "nbconvert_exporter": "python",
   "pygments_lexer": "ipython3",
   "version": "3.8.0"
  }
 },
 "nbformat": 4,
 "nbformat_minor": 4
}
