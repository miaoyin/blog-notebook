{
 "cells": [
  {
   "cell_type": "code",
   "execution_count": null,
   "metadata": {
    "collapsed": true
   },
   "outputs": [],
   "source": [
    "### 问题说明\n",
    "\n",
    "如果socket句柄是-1, select.select()在判断句柄状态时会报错 ValueError: file descriptor cannot be a negative integer (-1)\n",
    "\n",
    "而eventlet的select模块没有处理这种异常\n",
    "\n",
    "### 出现环境\n",
    "\n",
    "windows、python3.8、eventlet 0.26 在使用eventlet开发socket程序时, 如果客户端强制中断连接，会出现如下错误\n",
    "\n",
    "### 错误描述\n",
    "\n",
    "```\n",
    "exception: [WinError 10054] 远程主机强迫关闭了一个现有的连接。\n",
    "...\n",
    "ValueError: file descriptor cannot be a negative integer (-1)\n",
    "```\n",
    "\n",
    "### 解决办法\n",
    "\n",
    "修改文件eventlet\\hubs\\selects.py，然后把eventlet重新打包\n",
    "\n",
    "```\n",
    "    def wait(self, seconds=None):\n",
    "        ....\n",
    "        try:\n",
    "            r, w, er = select.select(reader_fds, writer_fds, all_fds, seconds)\n",
    "        # 捕捉异常并移除句柄-1\n",
    "        except ValueError as e:\n",
    "            self.remove_descriptor(-1)\n",
    "            return\n",
    "        except select.error as e:\n",
    "            if support.get_errno(e) == errno.EINTR:\n",
    "                return\n",
    "            elif support.get_errno(e) in BAD_SOCK:\n",
    "                self._remove_bad_fds()\n",
    "                return\n",
    "            else:\n",
    "                raise\n",
    "```\n",
    "\n",
    "### 总结\n",
    "\n",
    "1.很奇怪eventlet怎么没有修复这种兼容性错误?\n",
    "\n",
    "2.模拟错误的方法  select.select([-1], [], [], 0)\n",
    "\n",
    "3. socket中断句柄怎么变成了-1，非法的句柄-1又是如何进入eventlet的?\n",
    "\n",
    "\n",
    "[佛說大乘無量壽莊嚴清淨平等覺經pdf](http://doc.sxjy360.top/book/佛說大乘無量壽莊嚴清淨平等覺經(難字注音).pdf)\n",
    "[净土大经科注2014-doc](http://doc.sxjy360.top/book/净土大经科注2014-doc.zip)\n",
    "[此生必看的科学实验-水知道答案](http://v.youku.com/v_show/id_XMjgzMzcwNDk4OA)\n",
    "[印光大师十念法（胡小林主讲第1集）](http://v.youku.com/v_show/id_XMzUwMzc4NzY4NA)\n",
    "\n"
   ]
  }
 ],
 "metadata": {
  "kernelspec": {
   "display_name": "${KERNEL_SPEC_DISPLAY_NAME}",
   "language": "${KERNEL_SPEC_LANGUAGE}",
   "name": "${KERNEL_SPEC_NAME}"
  },
  "language_info": {
   "codemirror_mode": {
    "name": "ipython",
    "version": 2
   },
   "file_extension": ".py",
   "mimetype": "text/x-python",
   "name": "python",
   "nbconvert_exporter": "python",
   "pygments_lexer": "ipython2",
   "version": "2.7.6"
  }
 },
 "nbformat": 4,
 "nbformat_minor": 0
}