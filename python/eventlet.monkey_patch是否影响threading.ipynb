{
 "cells": [
  {
   "cell_type": "code",
   "execution_count": null,
   "metadata": {
    "collapsed": true
   },
   "outputs": [],
   "source": [
    "### 说明\n",
    "\n",
    "evenlet.monkey_patch()默认会绿化thread，并未看到绿化threading，为什么实际中threading被绿化了，如何证明？ 测试代码如下\n",
    "\n",
    "### 修改evenlet，加上标记语句\n",
    "\n",
    "修改eventlet.green.thread.py的start_new_thread方法，加一条打印语句\n",
    "\n",
    "```\n",
    "def start_new_thread(function, args=(), kwargs=None):\n",
    "    ...\n",
    "    print(\"hello: \", locals())\n",
    "    g = greenthread.spawn_n(__thread_body, function, args, kwargs)\n",
    "    return get_ident(g)\n",
    "```\n",
    "\n",
    "\n",
    "### 测试代码\n",
    "\n",
    "```\n",
    "# -*- coding:utf-8 -*-\n",
    "# from eventlet import patcher\n",
    "# original_threading = patcher.original('threading')\n",
    "import threading as original_threading\n",
    "import time\n",
    "import eventlet\n",
    "eventlet.monkey_patch()\n",
    "\n",
    "\n",
    "def thread1_run():\n",
    "    while True:\n",
    "        print(\"thread1:\", time.time())\n",
    "        time.sleep(1)\n",
    "\n",
    "\n",
    "if __name__ == \"__main__\":\n",
    "    thread1 = original_threading.Thread(target=thread1_run, name=\"thread1\", daemon=True)\n",
    "    print(type(thread1))\n",
    "    thread1.start()\n",
    "\n",
    "    e = eventlet.Event()\n",
    "    e.wait()\n",
    "```\n",
    "\n",
    "[佛說大乘無量壽莊嚴清淨平等覺經pdf](http://doc.sxjy360.top/book/佛說大乘無量壽莊嚴清淨平等覺經(難字注音).pdf)\n",
    "[净土大经科注2014-doc](http://doc.sxjy360.top/book/净土大经科注2014-doc.zip)\n",
    "[此生必看的科学实验-水知道答案](http://v.youku.com/v_show/id_XMjgzMzcwNDk4OA)\n",
    "[印光大师十念法（胡小林主讲第1集）](http://v.youku.com/v_show/id_XMzUwMzc4NzY4NA)\n",
    "\n"
   ]
  }
 ],
 "metadata": {
  "kernelspec": {
   "display_name": "${KERNEL_SPEC_DISPLAY_NAME}",
   "language": "${KERNEL_SPEC_LANGUAGE}",
   "name": "${KERNEL_SPEC_NAME}"
  },
  "language_info": {
   "codemirror_mode": {
    "name": "ipython",
    "version": 2
   },
   "file_extension": ".py",
   "mimetype": "text/x-python",
   "name": "python",
   "nbconvert_exporter": "python",
   "pygments_lexer": "ipython2",
   "version": "2.7.6"
  }
 },
 "nbformat": 4,
 "nbformat_minor": 0
}