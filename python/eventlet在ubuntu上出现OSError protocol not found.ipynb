{
 "cells": [
  {
   "cell_type": "code",
   "execution_count": null,
   "metadata": {},
   "outputs": [],
   "source": [
    "### 描述\n",
    "\n",
    "tensorflow的nvidia docker镜像使用ubuntu16.04, ubuntu是精简之后的，有些包可能没有。在上面运行eventlet会出现下面问题\n",
    "\n",
    "\n",
    "### 错误内容\n",
    "\n",
    "```\n",
    "\n",
    "Traceback (most recent call last):\n",
    "  File \"/app/defect-client/defect_client/cmd/wafer-worker.py\", line 14, in <module>\n",
    "    import eventlet\n",
    "  File \"/usr/local/lib/python3.6/dist-packages/eventlet/__init__.py\", line 10, in <module>\n",
    "    from eventlet import convenience\n",
    "  File \"/usr/local/lib/python3.6/dist-packages/eventlet/convenience.py\", line 7, in <module>\n",
    "    from eventlet.green import socket\n",
    "  File \"/usr/local/lib/python3.6/dist-packages/eventlet/green/socket.py\", line 21, in <module>\n",
    "    from eventlet.support import greendns\n",
    "  File \"/usr/local/lib/python3.6/dist-packages/eventlet/support/greendns.py\", line 69, in <module>\n",
    "    setattr(dns.rdtypes.IN, pkg, import_patched('dns.rdtypes.IN.' + pkg))\n",
    "  File \"/usr/local/lib/python3.6/dist-packages/eventlet/support/greendns.py\", line 59, in import_patched\n",
    "    return patcher.import_patched(module_name, **modules)\n",
    "  File \"/usr/local/lib/python3.6/dist-packages/eventlet/patcher.py\", line 126, in import_patched\n",
    "    *additional_modules + tuple(kw_additional_modules.items()))\n",
    "  File \"/usr/local/lib/python3.6/dist-packages/eventlet/patcher.py\", line 100, in inject\n",
    "    module = __import__(module_name, {}, {}, module_name.split('.')[:-1])\n",
    "  File \"/usr/local/lib/python3.6/dist-packages/dns/rdtypes/IN/WKS.py\", line 25, in <module>\n",
    "    _proto_tcp = socket.getprotobyname('tcp')\n",
    "OSError: protocol not found\n",
    "```\n",
    "\n",
    "### 解决办法\n",
    "\n",
    "```\n",
    "apt-get -o Dpkg::Options::=\"--force-confmiss\" install --reinstall netbase\n",
    "```\n",
    "\n",
    "[佛說大乘無量壽莊嚴清淨平等覺經pdf](http://doc.sxjy360.top/book/佛說大乘無量壽莊嚴清淨平等覺經(難字注音).pdf)\n",
    "[净土大经科注2014-doc](http://doc.sxjy360.top/book/净土大经科注2014-doc.zip)\n",
    "[此生必看的科学实验-水知道答案](http://v.youku.com/v_show/id_XMjgzMzcwNDk4OA)\n",
    "[印光大师十念法（胡小林主讲第1集）](http://v.youku.com/v_show/id_XMzUwMzc4NzY4NA)"
   ]
  }
 ],
 "metadata": {
  "kernelspec": {
   "display_name": "Python 3",
   "language": "python",
   "name": "python3"
  },
  "language_info": {
   "codemirror_mode": {
    "name": "ipython",
    "version": 3
   },
   "file_extension": ".py",
   "mimetype": "text/x-python",
   "name": "python",
   "nbconvert_exporter": "python",
   "pygments_lexer": "ipython3",
   "version": "3.6.10"
  }
 },
 "nbformat": 4,
 "nbformat_minor": 4
}
