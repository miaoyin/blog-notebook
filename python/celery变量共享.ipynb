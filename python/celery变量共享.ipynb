{
 "cells": [
  {
   "cell_type": "code",
   "execution_count": null,
   "metadata": {},
   "outputs": [],
   "source": [
    "### 问题\n",
    "\n",
    "很多情况下我们想让task共享变量，该怎么做?\n",
    "\n",
    "### celery的并发原理\n",
    "\n",
    "celery的并发任务池，有eventlet, gevent, prefork, thread类型\n",
    "\n",
    "eventlet/gevent协程: 只有一个进程一个线程, 全局变量在task之间共享\n",
    "    \n",
    "prefork属于multiprocessing: multiprocessing全局变量也是共享的\n",
    "\n",
    "thread多线程: 全局变量共享\n",
    "    \n",
    "### 验证方法\n",
    "\n",
    "用ab命令模拟大量并发，很容易测试出来\n",
    "\n",
    "```\n",
    "ab -n 1000 -c 100 -p ./post.txt -T application/json http://xxxx:5000/xxx\n",
    "```\n",
    "\n",
    "### 结论\n",
    "\n",
    "1. celery如果访问数据库, gpu等资源, 不用担心多次加载\n",
    "\n",
    "2. 注意: 如果在task中初始化全局变量, 初始化较慢, 同时又收到大量task请求，可能会导致初始化多次\n",
    "    \n",
    "\n",
    "[此生必看的科学实验-水知道答案](http://v.youku.com/v_show/id_XMjgzMzcwNDk4OA)\n",
    "[印光大师十念法（胡小林主讲第1集）](http://v.youku.com/v_show/id_XMzUwMzc4NzY4NA)"
   ]
  }
 ],
 "metadata": {
  "kernelspec": {
   "display_name": "Python 3",
   "language": "python",
   "name": "python3"
  },
  "language_info": {
   "codemirror_mode": {
    "name": "ipython",
    "version": 3
   },
   "file_extension": ".py",
   "mimetype": "text/x-python",
   "name": "python",
   "nbconvert_exporter": "python",
   "pygments_lexer": "ipython3",
   "version": "3.8.0"
  }
 },
 "nbformat": 4,
 "nbformat_minor": 4
}
