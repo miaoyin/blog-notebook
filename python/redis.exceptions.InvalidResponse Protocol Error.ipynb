{
 "cells": [
  {
   "cell_type": "code",
   "execution_count": null,
   "metadata": {},
   "outputs": [],
   "source": [
    "### 说明\n",
    "\n",
    "celery+redis实现异步任务，如果涉及到频繁的io调用，可能会出现错误redis.exceptions.InvalidResponse: Protocol Error\n",
    "\n",
    "### 错误内容\n",
    "\n",
    "```\n",
    "redis.exceptions.InvalidResponse: Protocol Error: {, b'\\\"status\\\": \\\"SUCCESS\\\", \\\"result\\\":xxxx \\\"traceback\\\": null, \\\"children\\\": [], \\\"date_done\\\": \\\"2020-06-04T07:47:38.317661\\\", \\\"task_id\\\": \\\"fd4e4fa1-f8cc-4083-a287-ac2b7c7d4472\\\"}'\\r\\n\"\n",
    "```\n",
    "\n",
    "###redis源码\n",
    "                                                   \n",
    "```\n",
    "#connection.py\n",
    "def read_response(self):\n",
    "    response = self._buffer.readline()\n",
    "    if not response:\n",
    "        raise ConnectionError(SERVER_CLOSED_CONNECTION_ERROR)\n",
    "\n",
    "    byte, response = byte_to_chr(response[0]), response[1:]\n",
    "\n",
    "    # 从redis源码中可以看出，通信的数据格式不对\n",
    "    if byte not in ('-', '+', ':', '$', '*'):\n",
    "        raise InvalidResponse(\"Protocol Error: %s, %s\" %\n",
    "                              (str(byte), str(response)))\n",
    "```\n",
    "\n",
    "### 原因\n",
    "                                                   \n",
    "从redis源码中可以看出，通信的数据格式不对.\n",
    "具体为什么会格式不会, 猜测可能是celery使用了pipeline, socket重连之后，数据格式发生变化\n",
    "\n",
    "\n",
    "### 解决办法\n",
    "\n",
    "使用evenetlet进行改造，解决socket问题\n",
    "\n"
   ]
  }
 ],
 "metadata": {
  "kernelspec": {
   "display_name": "Python 3",
   "language": "python",
   "name": "python3"
  },
  "language_info": {
   "codemirror_mode": {
    "name": "ipython",
    "version": 3
   },
   "file_extension": ".py",
   "mimetype": "text/x-python",
   "name": "python",
   "nbconvert_exporter": "python",
   "pygments_lexer": "ipython3",
   "version": "3.8.0"
  }
 },
 "nbformat": 4,
 "nbformat_minor": 4
}
