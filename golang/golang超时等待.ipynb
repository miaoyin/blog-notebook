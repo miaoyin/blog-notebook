{
 "cells": [
  {
   "cell_type": "code",
   "execution_count": null,
   "metadata": {},
   "outputs": [],
   "source": [
    "### 描述\n",
    "\n",
    "go中如何实现超时等待\n",
    "\n",
    "### python实现：队列超时等待\n",
    "\n",
    "```python\n",
    "queue.get(block=True, timeout=45)\n",
    "```\n",
    "\n",
    "\n",
    "### go实现：通道+time计时\n",
    "\n",
    "select会阻塞两个case，直到其中一个返回。如果是response，则停止计时器; 否则，就返回错误\n",
    "\n",
    "```go\n",
    "func _waitResponse(queueChan *chan int, timeout time.Duration) (int, error){\n",
    "\tticker := time.NewTicker(timeout)\n",
    "\tvar response int\n",
    "\tvar err error\n",
    "\tselect{\n",
    "\tcase response = <-*queueChan:\n",
    "\t\tticker.Stop()\n",
    "\tcase <-ticker.C:\n",
    "\t\terr = errors.New(\"wait response timeout\")\n",
    "\t}\n",
    "\treturn response, err\n",
    "}\n",
    "```\n",
    "\n",
    "\n",
    "[佛說大乘無量壽莊嚴清淨平等覺經pdf](http://doc.sxjy360.top/book/佛說大乘無量壽莊嚴清淨平等覺經(難字注音).pdf)\n",
    "[净土大经科注2014-doc](http://doc.sxjy360.top/book/净土大经科注2014-doc.zip)"
   ]
  }
 ],
 "metadata": {
  "kernelspec": {
   "display_name": "Python 3",
   "language": "python",
   "name": "python3"
  },
  "language_info": {
   "codemirror_mode": {
    "name": "ipython",
    "version": 3
   },
   "file_extension": ".py",
   "mimetype": "text/x-python",
   "name": "python",
   "nbconvert_exporter": "python",
   "pygments_lexer": "ipython3",
   "version": "3.8.0"
  }
 },
 "nbformat": 4,
 "nbformat_minor": 4
}