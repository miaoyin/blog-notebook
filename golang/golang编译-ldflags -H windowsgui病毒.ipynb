{
 "cells": [
  {
   "cell_type": "code",
   "execution_count": null,
   "metadata": {},
   "outputs": [],
   "source": [
    "### 介绍\n",
    "\n",
    "    使用walk为程序做了一个windows界面, cmd窗口需要隐藏。使用了 go build -ldflags=\"-H windowsgui\"\n",
    "\n",
    "    结果exe程序被杀毒软件认为是病毒\n",
    "\n",
    "### 为什么会认为是病毒？\n",
    "\n",
    "    隐藏cmd窗口, 双击exe，可以直接启动，并且看不到任何窗口。这不就是病毒的喜欢干的事吗.\n",
    "\n",
    "    所以有些杀毒软件, 干脆通杀, 使用了 \"-H windowsgui\" 直接被认为是病毒\n",
    "\n",
    "    我们这些正常的需求该咋办呢？\n",
    "\n",
    "### 解决办法\n",
    "\n",
    "    在程序中，使用代码隐藏cmd窗口\n",
    "\n",
    "\n",
    "```go\n",
    "import \"github.com/lxn/win\"\n",
    "\n",
    "//隐藏cmd窗口\n",
    "win.ShowWindow(win.GetConsoleWindow(), win.SW_HIDE)\n",
    "```\n",
    "\n",
    "    缺点：启动时会有很短暂的黑框闪现，不过问题不大\n",
    "\n",
    "\n",
    "[佛說大乘無量壽莊嚴清淨平等覺經pdf](http://www.sxjy360.top/page-download/)\n",
    "[净土大经科注2014-doc](http://www.sxjy360.top/page-download/)\n",
    "[此生必看的科学实验-水知道答案](http://www.sxjy360.top/page-download/)\n",
    "[印光大师十念法（胡小林主讲第1集）](http://www.sxjy360.top/page-download/)"
   ]
  }
 ],
 "metadata": {
  "kernelspec": {
   "display_name": "Python 3",
   "language": "python",
   "name": "python3"
  },
  "language_info": {
   "codemirror_mode": {
    "name": "ipython",
    "version": 3
   },
   "file_extension": ".py",
   "mimetype": "text/x-python",
   "name": "python",
   "nbconvert_exporter": "python",
   "pygments_lexer": "ipython3",
   "version": "3.8.0"
  },
  "pycharm": {
   "stem_cell": {
    "cell_type": "raw",
    "source": [],
    "metadata": {
     "collapsed": false
    }
   }
  }
 },
 "nbformat": 4,
 "nbformat_minor": 4
}