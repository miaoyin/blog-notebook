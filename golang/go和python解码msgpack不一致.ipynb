{
 "cells": [
  {
   "cell_type": "code",
   "execution_count": null,
   "metadata": {},
   "outputs": [],
   "source": [
    "### 描述\n",
    "\n",
    "    有一个消息字典类型, 使用go进行编码, 传入消息中间件。同时有一个python程序监听, 监听到消息之后进行解码, 遇到了编码问题\n",
    "\n",
    "\n",
    "### 环境\n",
    "\n",
    "```\n",
    "go使用:     github.com/vmihailenco/msgpack/v5 v5.3.4\n",
    "python使用: msgpack==1.0.2\n",
    "```\n",
    "\n",
    "\n",
    "python解码\n",
    "\n",
    "```python\n",
    "# go编码的对象是个字典，value可能包含了数组，并且数组类型复杂\n",
    "msgpack.unpackb(xxx, raw=True)\n",
    "```\n",
    "\n",
    "\n",
    "错误提示\n",
    "\n",
    "```\n",
    "UnicodeDecodeError: 'utf-8' codec can't decode byte 0bx0 in position 0: invalid start byte\n",
    "```\n",
    "\n",
    "解决办法\n",
    "\n",
    "```python\n",
    "msgpack.unpackb(xxx, raw=True)\n",
    "\n",
    "#raw=True  解析为python字节类型\n",
    "#raw=False 解析为python字符串, 默认使用utf-8编码\n",
    "```\n",
    "\n",
    "[佛說大乘無量壽莊嚴清淨平等覺經pdf](http://www.sxjy360.top/page-download/)\n",
    "[净土大经科注2014-doc](http://www.sxjy360.top/page-download/)\n",
    "[此生必看的科学实验-水知道答案](http://www.sxjy360.top/page-download/)\n",
    "[印光大师十念法（胡小林主讲第1集）](http://www.sxjy360.top/page-download/)"
   ]
  }
 ],
 "metadata": {
  "kernelspec": {
   "display_name": "Python 3",
   "language": "python",
   "name": "python3"
  },
  "language_info": {
   "codemirror_mode": {
    "name": "ipython",
    "version": 3
   },
   "file_extension": ".py",
   "mimetype": "text/x-python",
   "name": "python",
   "nbconvert_exporter": "python",
   "pygments_lexer": "ipython3",
   "version": "3.8.0"
  }
 },
 "nbformat": 4,
 "nbformat_minor": 4
}