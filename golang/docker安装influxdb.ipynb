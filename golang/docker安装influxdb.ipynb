{
 "cells": [
  {
   "cell_type": "markdown",
   "metadata": {},
   "source": [
    "influxdb的docker-compose如何配置\n",
    "\n",
    "1. 新建数据目录\n",
    "\n",
    "```shell\n",
    "mkdir data-volumne\n",
    "```\n",
    "\n",
    "2. 生成配置文件\n",
    "\n",
    "```shell\n",
    "docker run --rm influxdb:2.0.8 influxd print-config > config.yml\n",
    "```\n",
    "\n",
    "3. docker-compose配置\n",
    "\n",
    "docker-compose.yaml内容\n",
    "\n",
    "```yaml\n",
    "version: \"2\"\n",
    "services:\n",
    "   influxdb:\n",
    "       image: influxdb:2.0.8\n",
    "       volumes:\n",
    "           - ./data-volumne:/var/lib/influxdb2\n",
    "           - ./config.yml:/etc/influxdb2/config.yml\n",
    "           - /usr/share/zoneinfo/Asia/Shanghai:/etc/localtime\n",
    "       ports:\n",
    "           - 8086:8086\n",
    "       environment:\n",
    "           DOCKER_INFLUXDB_INIT_MODE: setup\n",
    "           DOCKER_INFLUXDB_INIT_USERNAME: my-user\n",
    "           DOCKER_INFLUXDB_INIT_PASSWORD: my-password\n",
    "           DOCKER_INFLUXDB_INIT_ORG: my-org\n",
    "           DOCKER_INFLUXDB_INIT_BUCKET: my-bucket\n",
    "```\n",
    "\n",
    "4. 启动\n",
    "\n",
    "docker-compose up\n",
    "\n",
    "5. 目录结构如下\n",
    "\n",
    "```shell\n",
    "[root@localhost influxdb]# tree\n",
    ".\n",
    "├── config.yml\n",
    "├── data-volumne\n",
    "│   ├── engine\n",
    "│   │   └── data\n",
    "│   └── influxd.bolt\n",
    "└── docker-compose.yaml\n",
    "```\n",
    "\n",
    "\n",
    "* 注意\n",
    "\n",
    "上面修改influx时区无效，好像不能修改时区，默认都是UTC\n",
    "\n",
    "[佛說大乘無量壽莊嚴清淨平等覺經pdf](http://www.sxjy360.top/page-download/)\n",
    "[净土大经科注2014-doc](http://www.sxjy360.top/page-download/)\n",
    "[此生必看的科学实验-水知道答案](http://www.sxjy360.top/page-download/)\n",
    "[印光大师十念法（胡小林主讲第1集）](http://www.sxjy360.top/page-download/)"
   ]
  }
 ],
 "metadata": {
  "kernelspec": {
   "display_name": "Python 3",
   "language": "python",
   "name": "python3"
  },
  "language_info": {
   "codemirror_mode": {
    "name": "ipython",
    "version": 3
   },
   "file_extension": ".py",
   "mimetype": "text/x-python",
   "name": "python",
   "nbconvert_exporter": "python",
   "pygments_lexer": "ipython3",
   "version": "3.8.0"
  },
  "pycharm": {
   "stem_cell": {
    "cell_type": "raw",
    "source": [],
    "metadata": {
     "collapsed": false
    }
   }
  }
 },
 "nbformat": 4,
 "nbformat_minor": 4
}
