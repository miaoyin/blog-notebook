{
 "cells": [
  {
   "cell_type": "code",
   "execution_count": null,
   "metadata": {},
   "outputs": [],
   "source": [
    "### 问题描述\n",
    "\n",
    "    influx查询包含了水平拆分、垂直拆分. 查询结果的每一条记录record，只对应一个field\n",
    "\n",
    "    写入一个point时包含多个field, 查询时如何将这几个field一起查出来呢？\n",
    "\n",
    "### 写入示例\n",
    "\n",
    "```go\n",
    "point := influxdb2.NewPoint(\"history\",\n",
    "    map[string]string{\n",
    "        \"Version\": DedefaultVersion,\n",
    "        \"Name\": sh.Name,\n",
    "        \"Active\": fmt.Sprintf(\"%v\", sh.Active),\n",
    "        \"PortIdx\": fmt.Sprintf(\"%d\", sh.PortIdx),\n",
    "        \"Port\": fmt.Sprintf(\"%v\", sh.Port),\n",
    "    },\n",
    "    map[string]interface{}{\n",
    "        \"MsgId\": fmt.Sprintf(\"%d\", sh.MsgId),\n",
    "        \"Content\": sh.Content,\n",
    "    },\n",
    "    time.Now(),\n",
    "    )\n",
    "```\n",
    "\n",
    "* 查询\n",
    "\n",
    "```\n",
    "from(bucket:\"my-bucket\")\n",
    "|> range(start: -10m)\n",
    "|> filter(fn: (r) => (r._measurement==\"history\") and (r.Name==\"xxxx\") )\n",
    "```\n",
    "\n",
    "用这个方法查询, 每个record只包含一个_field\n",
    "\n",
    "\n",
    "### 解决方法: 分组\n",
    "\n",
    "    分组之后的record，会多一个table属性。table相同，则为一组。也就是一个point的field。\n",
    "\n",
    "* 按写入时间分组\n",
    "\n",
    "```go\n",
    "|> group(columns: [\"_time\"])\n",
    "```\n",
    "\n",
    "* 增加id标签，按id分组\n",
    "\n",
    "为每个point增加一个id标签, 然后按id分组\n",
    "\n",
    "\n",
    "\n",
    "[佛說大乘無量壽莊嚴清淨平等覺經pdf](http://www.sxjy360.top/page-download/)\n",
    "[净土大经科注2014-doc](http://www.sxjy360.top/page-download/)\n",
    "[此生必看的科学实验-水知道答案](http://www.sxjy360.top/page-download/)\n",
    "[印光大师十念法（胡小林主讲第1集）](http://www.sxjy360.top/page-download/)\n"
   ]
  }
 ],
 "metadata": {
  "kernelspec": {
   "display_name": "Python 3",
   "language": "python",
   "name": "python3"
  },
  "language_info": {
   "codemirror_mode": {
    "name": "ipython",
    "version": 3
   },
   "file_extension": ".py",
   "mimetype": "text/x-python",
   "name": "python",
   "nbconvert_exporter": "python",
   "pygments_lexer": "ipython3",
   "version": "3.8.0"
  },
  "pycharm": {
   "stem_cell": {
    "cell_type": "raw",
    "source": [],
    "metadata": {
     "collapsed": false
    }
   }
  }
 },
 "nbformat": 4,
 "nbformat_minor": 4
}