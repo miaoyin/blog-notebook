{
 "cells": [
  {
   "cell_type": "code",
   "execution_count": null,
   "metadata": {},
   "outputs": [],
   "source": [
    "### 背景\n",
    "\n",
    "用golang做了一个分布式结构的系统, 消息服务器用了rabbitmq。\n",
    "\n",
    "整体是基于machinery+rabbitmq形式的分布式任务系统\n",
    "\n",
    "在做压力测试时，发现rabbitmq的cpu使用率飙升\n",
    "\n",
    "\n",
    "### 分析\n",
    "\n",
    "* 官方给出的解释\n",
    "\n",
    "scheduler采用了忙等，来提高消息传递性能\n",
    "\n",
    "https://www.rabbitmq.com/runtime.html#cpu\n",
    "\n",
    "其中也讲了一些方法来降低cpu使用率\n",
    "\n",
    "* 官方建议\n",
    "\n",
    "1. rabbtimq最好是装在单独的服务器，不与其它应用共用。\n",
    "\n",
    "2. 也介绍了修改cpu使用个数的方法\n",
    "\n",
    "* 对我而言\n",
    "\n",
    "通信关cpu什么事，导致cpu飙升，就是不应该\n",
    "\n",
    "* 站在传统语言java/python/...等语言角度\n",
    "\n",
    "忙等好像也没啥\n",
    "\n",
    "* 站在go的角度\n",
    "\n",
    "忙等是上世纪的技术了。\n",
    "\n",
    "看起来太辣眼睛。\n",
    "\n",
    "* 从我的应用场景上来看\n",
    "\n",
    "系统规模可大可小, 而且业务高峰时间很短\n",
    "\n",
    "在系统规模小时，不大愿意单独给rabbitmq一台服务器\n",
    "\n",
    "在业务高峰的这几分钟，正好会影响其它系统\n",
    "\n",
    "* 是否有其它选择\n",
    "\n",
    "nats\n",
    "\n",
    "[佛說大乘無量壽莊嚴清淨平等覺經pdf](http://doc.sxjy360.top/book/佛說大乘無量壽莊嚴清淨平等覺經(難字注音).pdf)\n",
    "[净土大经科注2014-doc](http://doc.sxjy360.top/book/净土大经科注2014-doc.zip)\n"
   ]
  }
 ],
 "metadata": {
  "kernelspec": {
   "display_name": "Python 3",
   "language": "python",
   "name": "python3"
  },
  "language_info": {
   "codemirror_mode": {
    "name": "ipython",
    "version": 3
   },
   "file_extension": ".py",
   "mimetype": "text/x-python",
   "name": "python",
   "nbconvert_exporter": "python",
   "pygments_lexer": "ipython3",
   "version": "3.8.0"
  },
  "pycharm": {
   "stem_cell": {
    "cell_type": "raw",
    "source": [],
    "metadata": {
     "collapsed": false
    }
   }
  }
 },
 "nbformat": 4,
 "nbformat_minor": 4
}