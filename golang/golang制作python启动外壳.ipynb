{
 "cells": [
  {
   "cell_type": "code",
   "execution_count": null,
   "metadata": {},
   "outputs": [],
   "source": [
    "### 描述\n",
    "\n",
    "pyhton程序在windows上运行, 如何双击启动？\n",
    "\n",
    "用.bat脚本，挺low\n",
    "\n",
    "用pyinstaller编译exe，也不大好用\n",
    "\n",
    "不如用golang写一个启动外壳\n",
    "\n",
    "### 示例\n",
    "\n",
    "xxx.go\n",
    "\n",
    "```golang\n",
    "\n",
    "package main\n",
    "\n",
    "import (\n",
    "\t\"fmt\"\n",
    "\t\"os\"\n",
    "\t\"os/exec\"\n",
    "\t\"path/filepath\"\n",
    "\t\"syscall\"\n",
    ")\n",
    "\n",
    "func main() {\n",
    "    // 从环境变量取路径\n",
    "\tpath_home := os.Getenv(\"AUTUMN_HOME\")\n",
    "\n",
    "\tfilename := os.Args[0]\n",
    "\tfilename_all := filepath.Base(filename)\n",
    "\tfilename_suffix := filepath.Ext(filename)\n",
    "\tstem_name := filename_all[0:len(filename_all) - len(filename_suffix)]\n",
    "\n",
    "\tpython_path := path_home + \"./core/python.exe\"\n",
    "\tconfig_file := \"etc/xxx/\"+stem_name+\".conf\"\n",
    "\tcmd_str := python_path + \" -m autumn.cmd.xxx -c \" + config_file\n",
    "\n",
    "\tfmt.Println(cmd_str)\n",
    "\tcommand := exec.Command(\"cmd\",\"/c\", \"start \"+ cmd_str)\n",
    "\tcommand.SysProcAttr = &syscall.SysProcAttr{HideWindow: true}\n",
    "\tcommand.Start()\n",
    "}\n",
    "```\n",
    "\n",
    "### 注意\n",
    "\n",
    "注意，将go输出结果设置成32位\n",
    "\n",
    "[佛說大乘無量壽莊嚴清淨平等覺經pdf](http://doc.sxjy360.top/book/佛說大乘無量壽莊嚴清淨平等覺經(難字注音).pdf)\n",
    "[净土大经科注2014-doc](http://doc.sxjy360.top/book/净土大经科注2014-doc.zip)\n",
    "[此生必看的科学实验-水知道答案](http://v.youku.com/v_show/id_XMjgzMzcwNDk4OA)\n",
    "[印光大师十念法（胡小林主讲第1集）](http://v.youku.com/v_show/id_XMzUwMzc4NzY4NA)\n"
   ]
  }
 ],
 "metadata": {
  "kernelspec": {
   "display_name": "Python 3",
   "language": "python",
   "name": "python3"
  },
  "language_info": {
   "codemirror_mode": {
    "name": "ipython",
    "version": 3
   },
   "file_extension": ".py",
   "mimetype": "text/x-python",
   "name": "python",
   "nbconvert_exporter": "python",
   "pygments_lexer": "ipython3",
   "version": "3.8.0"
  }
 },
 "nbformat": 4,
 "nbformat_minor": 4
}