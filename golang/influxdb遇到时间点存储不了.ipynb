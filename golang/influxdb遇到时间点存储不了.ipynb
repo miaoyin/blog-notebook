{
 "cells": [],
 "metadata": {
  "kernelspec": {
   "display_name": "Python 3",
   "language": "python",
   "name": "python3"
  },
  "language_info": {
   "codemirror_mode": {
    "name": "ipython",
    "version": 3
   },
   "file_extension": ".py",
   "mimetype": "text/x-python",
   "name": "python",
   "nbconvert_exporter": "python",
   "pygments_lexer": "ipython3",
   "version": "3.8.0"
  },
  "pycharm": {
   "stem_cell": {
    "cell_type": "raw",
    "source": [
     "\n",
     "### 问题描述\n",
     "\n",
     "    有一份mysql存储的历史数据，准备把它转为influxdb存储, 时间点用的是mysql表中记录的创建时间，创建时间是时许的。\n",
     "\n",
     "### 环境描述\n",
     "\n",
     "* influxdb: 2.0.8\n",
     "\n",
     "* 开发语言: go\n",
     "\n",
     "* influx客户端: influxdb-client-go 2.5.0\n",
     "\n",
     "\n",
     "### 关键代码摘要\n",
     "\n",
     "    使用如下代码, 创建point，发现存储不了。\n",
     "\n",
     "```\n",
     "point := influxdb2.NewPoint(\"table_name\",\n",
     "    map[string]string{\n",
     "        ...\n",
     "    },\n",
     "    map[string]interface{}{\n",
     "        ....\n",
     "    },\n",
     "    ts,     //对应mysql表中记录的创建时间\n",
     "    )\n",
     "```\n",
     "\n",
     "### 解决过程\n",
     "\n",
     "    开始以为数据是几年前的, 时间太长存储不了。 后来用time.Time().Add(-xxx), 把时间移到3年前， 结果能存储\n",
     "\n",
     "\n",
     "### 解决办法\n",
     "\n",
     "    原因是influx的精度是纳秒, 存入的时间精度是秒, 在Influx中无法存储\n",
     "\n",
     "    解决办法是加1纳秒, ts.Add(time.Nanosecond*1)\n",
     "\n",
     "[佛說大乘無量壽莊嚴清淨平等覺經pdf](http://www.sxjy360.top/page-download/)\n",
     "[净土大经科注2014-doc](http://www.sxjy360.top/page-download/)\n",
     "[此生必看的科学实验-水知道答案](http://www.sxjy360.top/page-download/)\n",
     "[印光大师十念法（胡小林主讲第1集）](http://www.sxjy360.top/page-download/)\n"
    ],
    "metadata": {
     "collapsed": false
    }
   }
  }
 },
 "nbformat": 4,
 "nbformat_minor": 4
}