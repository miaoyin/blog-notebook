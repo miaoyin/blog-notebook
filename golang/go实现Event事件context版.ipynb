{
 "cells": [
  {
   "cell_type": "code",
   "execution_count": null,
   "outputs": [],
   "source": [
    "### 描述\n",
    "\n",
    "上一篇文章，写了go如何实现Event事件，有几个可以优化的地方.\n",
    "sync.Map保存结果可以不用这么复杂.\n",
    "改用context关闭通道更加方便\n",
    "\n",
    "\n",
    "### 事件实现\n",
    "\n",
    "```go\n",
    "package common\n",
    "\n",
    "import (\n",
    "\t\"context\"\n",
    "\t\"errors\"\n",
    "\t\"go.uber.org/zap\"\n",
    "\t\"time\"\n",
    ")\n",
    "var NOT_USED = struct{}{}\n",
    "\n",
    "func NewEvent() *Event {\n",
    "\te := &Event{\n",
    "\t\tlog: zap.S(),\n",
    "\t}\n",
    "\te.Reset()\n",
    "\treturn e\n",
    "}\n",
    "\n",
    "type Event struct{\n",
    "\t//监听者\n",
    "\twaiters  []chan interface{}\n",
    "\t//结果\n",
    "\tresult interface{}\n",
    "\t//上下文控制\n",
    "\tctxBg \tcontext.Context\n",
    "\tctxCancel context.CancelFunc\n",
    "\t//日志\n",
    "\tlog *zap.SugaredLogger\n",
    "}\n",
    "\n",
    "//等待结果\n",
    "func (e *Event) Wait(timeout time.Duration) interface{}{\n",
    "\tctx, cancel := context.WithTimeout(e.ctxBg, time.Second*timeout)\n",
    "\tdefer cancel()\n",
    "\n",
    "\t//等待者\n",
    "\tresultChan := make(chan interface{}, 1)\n",
    "\te.waiters = append(e.waiters, resultChan)\n",
    "\n",
    "\t//等待\n",
    "\tselect{\n",
    "\tcase result := <- resultChan:\n",
    "\t\treturn result\n",
    "\tcase <- ctx.Done():\n",
    "\t}\n",
    "\treturn nil\n",
    "}\n",
    "\n",
    "//发送结果\n",
    "func (e *Event) Send(result interface{}) error{\n",
    "\t//防止发送多次\n",
    "\tif e.result !=NOT_USED{\n",
    "\t\treturn errors.New(\"Event is used\")\n",
    "\t}\n",
    "\n",
    "\te.result = result\n",
    "\tfor _, resultChan := range e.waiters{\n",
    "\t\tselect{\n",
    "\t\tcase resultChan <- result:\n",
    "\t\tdefault:\n",
    "\t\t\te.log.Warnf(\"Event.Send %p resultChan=%d, result=%v\", e, len(resultChan), result)\n",
    "\t\t}\n",
    "\t}\n",
    "\treturn nil\n",
    "}\n",
    "\n",
    "//重置\n",
    "func (e *Event) Reset(){\n",
    "\tif e.ctxBg !=nil{\n",
    "\t\te.ctxCancel()\n",
    "\t}\n",
    "\n",
    "\te.ctxBg, e.ctxCancel = context.WithCancel(context.Background())\n",
    "\te.waiters = nil\n",
    "\te.result = NOT_USED\n",
    "}\n",
    "```\n",
    "\n",
    "[佛說大乘無量壽莊嚴清淨平等覺經pdf](http://doc.sxjy360.top/book/佛說大乘無量壽莊嚴清淨平等覺經(難字注音).pdf)\n",
    "[净土大经科注2014-doc](http://doc.sxjy360.top/book/净土大经科注2014-doc.zip)"
   ],
   "metadata": {
    "collapsed": false,
    "pycharm": {
     "name": "#%%\n"
    }
   }
  }
 ],
 "metadata": {
  "kernelspec": {
   "display_name": "Python 3",
   "language": "python",
   "name": "python3"
  },
  "language_info": {
   "codemirror_mode": {
    "name": "ipython",
    "version": 3
   },
   "file_extension": ".py",
   "mimetype": "text/x-python",
   "name": "python",
   "nbconvert_exporter": "python",
   "pygments_lexer": "ipython3",
   "version": "3.8.0"
  },
  "pycharm": {
   "stem_cell": {
    "cell_type": "raw",
    "source": [],
    "metadata": {
     "collapsed": false
    }
   }
  }
 },
 "nbformat": 4,
 "nbformat_minor": 4
}