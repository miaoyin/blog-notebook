{
 "cells": [
  {
   "cell_type": "code",
   "execution_count": null,
   "metadata": {},
   "outputs": [],
   "source": [
    "###  问题描述\n",
    "\n",
    "    现有int16类型的整数，将它转为两个字节存放。在还原时，一不小心会就被坑了。\n",
    "\n",
    "\n",
    "### 错误用法\n",
    "\n",
    "```\n",
    "length := int(keyBytes[cursor] + keyBytes[cursor+1] <<8)\n",
    "```\n",
    "\n",
    "### 正确用法\n",
    "\n",
    "```\n",
    "keyBytes := []byte{ 16, 1}\n",
    "length := int(uint16(keyBytes[cursor]) + uint16(keyBytes[cursor+1]) <<8)\n",
    "```\n",
    "\n",
    "### 错误原因\n",
    "\n",
    "字节byte位移时类型不会自动变化, 先要转换类型再位移。\n",
    "\n",
    "\n",
    "[佛說大乘無量壽莊嚴清淨平等覺經pdf](http://www.sxjy360.top/page-download/)\n",
    "[净土大经科注2014-doc](http://www.sxjy360.top/page-download/)\n",
    "[此生必看的科学实验-水知道答案](http://www.sxjy360.top/page-download/)\n",
    "[印光大师十念法（胡小林主讲第1集）](http://www.sxjy360.top/page-download/)\n"
   ]
  }
 ],
 "metadata": {
  "kernelspec": {
   "display_name": "Python 3",
   "language": "python",
   "name": "python3"
  },
  "language_info": {
   "codemirror_mode": {
    "name": "ipython",
    "version": 3
   },
   "file_extension": ".py",
   "mimetype": "text/x-python",
   "name": "python",
   "nbconvert_exporter": "python",
   "pygments_lexer": "ipython3",
   "version": "3.8.0"
  }
 },
 "nbformat": 4,
 "nbformat_minor": 4
}