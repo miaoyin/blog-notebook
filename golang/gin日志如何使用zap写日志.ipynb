{
 "cells": [
  {
   "cell_type": "code",
   "execution_count": null,
   "metadata": {},
   "outputs": [],
   "source": [
    "### 描述\n",
    "\n",
    "    gin对外提供了io.Writer接口, 并且默认日志写入到控制台. 如何使用zap写入文件呢?\n",
    "\n",
    "### 示例\n",
    "\n",
    "```go\n",
    "logger := zap.NewExample()\n",
    "gin.DefaultWriter = &zapio.Writer{Log: logger, Level: zap.DebugLevel}\n",
    "ga.Server = gin.Default()\n",
    "\n",
    "//注意: 要在gin.Default之前, 修改才有效\n",
    "```\n"
   ]
  }
 ],
 "metadata": {
  "kernelspec": {
   "display_name": "Python 3",
   "language": "python",
   "name": "python3"
  },
  "language_info": {
   "codemirror_mode": {
    "name": "ipython",
    "version": 3
   },
   "file_extension": ".py",
   "mimetype": "text/x-python",
   "name": "python",
   "nbconvert_exporter": "python",
   "pygments_lexer": "ipython3",
   "version": "3.8.0"
  }
 },
 "nbformat": 4,
 "nbformat_minor": 4
}