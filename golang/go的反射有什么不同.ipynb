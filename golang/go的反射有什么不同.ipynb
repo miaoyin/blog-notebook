{
 "cells": [
  {
   "cell_type": "code",
   "execution_count": null,
   "metadata": {},
   "outputs": [],
   "source": [
    "### 说明\n",
    "\n",
    "go的反射有什么不同, 与动态语言python有什么不同\n",
    "\n",
    "### go反射的不同\n",
    "\n",
    "1. 首先, go是静态强类型。再怎么反射它也是静态语言，不支持动态获取类型，例如，通过字符串\"struct_name\"，创建struct_name对象\n",
    "\n",
    "2. go的反射，在于通过对象获取类型信息。例如，通过object，得到Type，然后获取Type的属性\n",
    "\n",
    "3. reflect的入口是TypeOf和ValueOf。一切的前提是先有对象\n",
    "\n",
    "\n",
    "[佛說大乘無量壽莊嚴清淨平等覺經pdf](http://doc.sxjy360.top/book/佛說大乘無量壽莊嚴清淨平等覺經(難字注音).pdf)\n",
    "[净土大经科注2014-doc](http://doc.sxjy360.top/book/净土大经科注2014-doc.zip)\n",
    "[此生必看的科学实验-水知道答案](http://v.youku.com/v_show/id_XMjgzMzcwNDk4OA)\n",
    "[印光大师十念法（胡小林主讲第1集）](http://v.youku.com/v_show/id_XMzUwMzc4NzY4NA)"
   ]
  }
 ],
 "metadata": {
  "kernelspec": {
   "display_name": "Python 3",
   "language": "python",
   "name": "python3"
  },
  "language_info": {
   "codemirror_mode": {
    "name": "ipython",
    "version": 3
   },
   "file_extension": ".py",
   "mimetype": "text/x-python",
   "name": "python",
   "nbconvert_exporter": "python",
   "pygments_lexer": "ipython3",
   "version": "3.8.0"
  }
 },
 "nbformat": 4,
 "nbformat_minor": 4
}