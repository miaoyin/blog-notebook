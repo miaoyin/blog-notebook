{
 "cells": [
  {
   "cell_type": "code",
   "execution_count": null,
   "metadata": {},
   "outputs": [],
   "source": [
    "### 问题描述\n",
    "\n",
    "    写了一个测试脚本，从数据读取一组数据，然后逐条publish到nats-server中, 确定每条都publish了\n",
    "\n",
    "    有另外一个程序中subscribe订阅，在该程序发现最后一条一直没收到\n",
    "\n",
    "\n",
    "### 环境\n",
    "\n",
    "* go: 1.16\n",
    "\n",
    "* nats-server\n",
    "\n",
    "### 程序摘要\n",
    "\n",
    "* 发布\n",
    "\n",
    "```go\n",
    "for _, record := range records{\n",
    "    ...\n",
    "    gNatsConn.Publish(Topic, record)\n",
    "    time.Sleep(time.Second*0.1)    //间隔越小出现的概率越大. 间隔1秒好像就没有\n",
    "}\n",
    "```\n",
    "\n",
    "* 订阅\n",
    "\n",
    "```go\n",
    "natsConn.Subscribe(topic, func(m *nats.Msg){\n",
    "    fmt.Println(m.Data)\n",
    "    ....\n",
    "}\n",
    "```\n",
    "\n",
    "### 原因以及解决办法\n",
    "\n",
    "    nats在发布消息时，有应该是用了缓存通道, 大小是1。最后一条数据有可能没被读走\n",
    "\n",
    "    发布频率较高，最后需要flush一下\n",
    "\n",
    "\n",
    "[佛說大乘無量壽莊嚴清淨平等覺經pdf](http://www.sxjy360.top/page-download/)\n",
    "[净土大经科注2014-doc](http://www.sxjy360.top/page-download/)\n",
    "[此生必看的科学实验-水知道答案](http://www.sxjy360.top/page-download/)\n",
    "[印光大师十念法（胡小林主讲第1集）](http://www.sxjy360.top/page-download/)"
   ]
  }
 ],
 "metadata": {
  "kernelspec": {
   "display_name": "Python 3",
   "language": "python",
   "name": "python3"
  },
  "language_info": {
   "codemirror_mode": {
    "name": "ipython",
    "version": 3
   },
   "file_extension": ".py",
   "mimetype": "text/x-python",
   "name": "python",
   "nbconvert_exporter": "python",
   "pygments_lexer": "ipython3",
   "version": "3.8.0"
  },
  "pycharm": {
   "stem_cell": {
    "cell_type": "raw",
    "source": [],
    "metadata": {
     "collapsed": false
    }
   }
  }
 },
 "nbformat": 4,
 "nbformat_minor": 4
}