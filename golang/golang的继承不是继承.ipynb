{
 "cells": [
  {
   "cell_type": "code",
   "execution_count": null,
   "metadata": {},
   "outputs": [],
   "source": [
    "### 问题\n",
    "\n",
    "struct嵌套，内层struct方法访问同名的属性，这个属性是谁的？\n",
    "\n",
    "### 示例\n",
    "\n",
    "```go\n",
    "package main\n",
    "\n",
    "import (\n",
    "\t\"fmt\"\n",
    ")\n",
    "\n",
    "type ProductA struct{\n",
    "\tName string\n",
    "}\n",
    "\n",
    "func (p *ProductA) PrintName(){\n",
    "\tfmt.Println(\"a:\", p.Name)\n",
    "}\n",
    "\n",
    "type ProductB struct{\n",
    "\tProductA\n",
    "\tName string\n",
    "\tLevel string\n",
    "}\n",
    "\n",
    "func main() {\n",
    "    b := ProductB{\n",
    "\t\tName: \"name-b\",\n",
    "\t\tLevel: \"level\",\n",
    "\t}\n",
    "\tb.PrintName()\n",
    "}\n",
    "// 仍然是ProductA的\n",
    "//打印 a:\n",
    "```\n",
    "\n",
    "### 总结\n",
    "\n",
    "1. go没有继承，只有组合\n",
    "2. 只是提供了类似继承的便捷访问方式，不要被所谓的”继承“误导\n",
    "\n",
    "[佛說大乘無量壽莊嚴清淨平等覺經pdf](http://doc.sxjy360.top/book/佛說大乘無量壽莊嚴清淨平等覺經(難字注音).pdf)\n",
    "[净土大经科注2014-doc](http://doc.sxjy360.top/book/净土大经科注2014-doc.zip)\n",
    "[此生必看的科学实验-水知道答案](http://v.youku.com/v_show/id_XMjgzMzcwNDk4OA)\n",
    "[印光大师十念法（胡小林主讲第1集）](http://v.youku.com/v_show/id_XMzUwMzc4NzY4NA)"
   ]
  }
 ],
 "metadata": {
  "kernelspec": {
   "display_name": "Python 3",
   "language": "python",
   "name": "python3"
  },
  "language_info": {
   "codemirror_mode": {
    "name": "ipython",
    "version": 3
   },
   "file_extension": ".py",
   "mimetype": "text/x-python",
   "name": "python",
   "nbconvert_exporter": "python",
   "pygments_lexer": "ipython3",
   "version": "3.8.0"
  }
 },
 "nbformat": 4,
 "nbformat_minor": 4
}